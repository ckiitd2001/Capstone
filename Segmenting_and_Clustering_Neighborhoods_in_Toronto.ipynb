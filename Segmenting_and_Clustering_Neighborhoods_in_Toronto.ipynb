{
  "nbformat": 4,
  "nbformat_minor": 0,
  "metadata": {
    "colab": {
      "name": "Segmenting and Clustering Neighborhoods in Toronto.ipynb",
      "provenance": [],
      "authorship_tag": "ABX9TyPTx4A6kIVHjTiAIhpaTCoU",
      "include_colab_link": true
    },
    "kernelspec": {
      "name": "python3",
      "display_name": "Python 3"
    }
  },
  "cells": [
    {
      "cell_type": "markdown",
      "metadata": {
        "id": "view-in-github",
        "colab_type": "text"
      },
      "source": [
        "<a href=\"https://colab.research.google.com/github/ckiitd2001/Capstone/blob/master/Segmenting_and_Clustering_Neighborhoods_in_Toronto.ipynb\" target=\"_parent\"><img src=\"https://colab.research.google.com/assets/colab-badge.svg\" alt=\"Open In Colab\"/></a>"
      ]
    },
    {
      "cell_type": "code",
      "metadata": {
        "id": "uS71v0IH2mvl",
        "colab_type": "code",
        "colab": {
          "base_uri": "https://localhost:8080/",
          "height": 204
        },
        "outputId": "6a2e22ee-46a6-4808-fc0a-f2daaba098c6"
      },
      "source": [
        "# Part 1 of the notebook\n",
        "# For Part 2 of the notebook please scroll down this link\n",
        "import requests\n",
        "from bs4 import BeautifulSoup\n",
        "import pandas as pd\n",
        "\n",
        "import numpy as np\n",
        "\n",
        "website_text = requests.get('https://en.wikipedia.org/wiki/List_of_postal_codes_of_Canada:_M').text\n",
        "soup = BeautifulSoup(website_text,'xml')\n",
        "table = soup.find('table',{'class':'wikitable sortable'})\n",
        "\n",
        "table_rows = table.find_all('tr')\n",
        "data = []\n",
        "for row in table_rows:\n",
        "    td=[]\n",
        "    for t in row.find_all('td'):\n",
        "        td.append(t.text.strip())\n",
        "    data.append(td)\n",
        "df = pandas.DataFrame(data, columns=['PostalCode', 'Borough', 'Neighborhood'])\n",
        "\n",
        "df = df[~df['Borough'].isnull()]  # to filter out bad rows\n",
        "df.drop(df[df.Borough == 'Not assigned'].index, inplace=True)\n",
        "df.reset_index(drop=True, inplace=True)\n",
        "df = df.groupby(['PostalCode','Borough'])['Neighborhood'].apply(lambda x: ','.join(x)).reset_index()\n",
        "df['Neighborhood'].replace('Not assigned',df['Borough'],inplace=True)\n",
        "df.head()\n"
      ],
      "execution_count": null,
      "outputs": [
        {
          "output_type": "execute_result",
          "data": {
            "text/html": [
              "<div>\n",
              "<style scoped>\n",
              "    .dataframe tbody tr th:only-of-type {\n",
              "        vertical-align: middle;\n",
              "    }\n",
              "\n",
              "    .dataframe tbody tr th {\n",
              "        vertical-align: top;\n",
              "    }\n",
              "\n",
              "    .dataframe thead th {\n",
              "        text-align: right;\n",
              "    }\n",
              "</style>\n",
              "<table border=\"1\" class=\"dataframe\">\n",
              "  <thead>\n",
              "    <tr style=\"text-align: right;\">\n",
              "      <th></th>\n",
              "      <th>PostalCode</th>\n",
              "      <th>Borough</th>\n",
              "      <th>Neighborhood</th>\n",
              "    </tr>\n",
              "  </thead>\n",
              "  <tbody>\n",
              "    <tr>\n",
              "      <th>0</th>\n",
              "      <td>M1B</td>\n",
              "      <td>Scarborough</td>\n",
              "      <td>Malvern, Rouge</td>\n",
              "    </tr>\n",
              "    <tr>\n",
              "      <th>1</th>\n",
              "      <td>M1C</td>\n",
              "      <td>Scarborough</td>\n",
              "      <td>Rouge Hill, Port Union, Highland Creek</td>\n",
              "    </tr>\n",
              "    <tr>\n",
              "      <th>2</th>\n",
              "      <td>M1E</td>\n",
              "      <td>Scarborough</td>\n",
              "      <td>Guildwood, Morningside, West Hill</td>\n",
              "    </tr>\n",
              "    <tr>\n",
              "      <th>3</th>\n",
              "      <td>M1G</td>\n",
              "      <td>Scarborough</td>\n",
              "      <td>Woburn</td>\n",
              "    </tr>\n",
              "    <tr>\n",
              "      <th>4</th>\n",
              "      <td>M1H</td>\n",
              "      <td>Scarborough</td>\n",
              "      <td>Cedarbrae</td>\n",
              "    </tr>\n",
              "  </tbody>\n",
              "</table>\n",
              "</div>"
            ],
            "text/plain": [
              "  PostalCode      Borough                            Neighborhood\n",
              "0        M1B  Scarborough                          Malvern, Rouge\n",
              "1        M1C  Scarborough  Rouge Hill, Port Union, Highland Creek\n",
              "2        M1E  Scarborough       Guildwood, Morningside, West Hill\n",
              "3        M1G  Scarborough                                  Woburn\n",
              "4        M1H  Scarborough                               Cedarbrae"
            ]
          },
          "metadata": {
            "tags": []
          },
          "execution_count": 9
        }
      ]
    },
    {
      "cell_type": "code",
      "metadata": {
        "id": "Si58QPGM9wLY",
        "colab_type": "code",
        "colab": {
          "base_uri": "https://localhost:8080/",
          "height": 34
        },
        "outputId": "04c180d7-f949-454d-e169-c03fda91d2d7"
      },
      "source": [
        "df.shape"
      ],
      "execution_count": null,
      "outputs": [
        {
          "output_type": "execute_result",
          "data": {
            "text/plain": [
              "(103, 3)"
            ]
          },
          "metadata": {
            "tags": []
          },
          "execution_count": 6
        }
      ]
    },
    {
      "cell_type": "code",
      "metadata": {
        "id": "zq_4YUoy5_5k",
        "colab_type": "code",
        "colab": {
          "base_uri": "https://localhost:8080/",
          "height": 441
        },
        "outputId": "71dfa51c-4ec3-41df-ad9d-8dfb9254e631"
      },
      "source": [
        "# Part 2 of the notebook \n",
        "# For Part 3 of the notebook please scroll down this link\n",
        "\n",
        "# Get CSV\n",
        "!wget -q -O \"toronto_coordinates.csv\" http://cocl.us/Geospatial_data\n",
        "print('Coordinates downloaded!')\n",
        "coors = pd.read_csv('toronto_coordinates.csv')\n",
        "print(coors.shape)\n",
        "coors.head()\n",
        "\n",
        "toronto_df1 = df.set_index('PostalCode')\n",
        "coors_temp = coors.set_index('Postal Code')\n",
        "toronto_df_coors = pd.concat([toronto_df1, coors_temp], axis=1, join='inner')\n",
        "\n",
        "toronto_df_coors.index.name = 'PostalCode'\n",
        "toronto_df_coors.reset_index(inplace=True)\n",
        "\n",
        "print(toronto_df_coors.shape)\n",
        "toronto_df_coors.head(11)\n"
      ],
      "execution_count": null,
      "outputs": [
        {
          "output_type": "stream",
          "text": [
            "Coordinates downloaded!\n",
            "(103, 3)\n",
            "(103, 5)\n"
          ],
          "name": "stdout"
        },
        {
          "output_type": "execute_result",
          "data": {
            "text/html": [
              "<div>\n",
              "<style scoped>\n",
              "    .dataframe tbody tr th:only-of-type {\n",
              "        vertical-align: middle;\n",
              "    }\n",
              "\n",
              "    .dataframe tbody tr th {\n",
              "        vertical-align: top;\n",
              "    }\n",
              "\n",
              "    .dataframe thead th {\n",
              "        text-align: right;\n",
              "    }\n",
              "</style>\n",
              "<table border=\"1\" class=\"dataframe\">\n",
              "  <thead>\n",
              "    <tr style=\"text-align: right;\">\n",
              "      <th></th>\n",
              "      <th>PostalCode</th>\n",
              "      <th>Borough</th>\n",
              "      <th>Neighborhood</th>\n",
              "      <th>Latitude</th>\n",
              "      <th>Longitude</th>\n",
              "    </tr>\n",
              "  </thead>\n",
              "  <tbody>\n",
              "    <tr>\n",
              "      <th>0</th>\n",
              "      <td>M1B</td>\n",
              "      <td>Scarborough</td>\n",
              "      <td>Malvern, Rouge</td>\n",
              "      <td>43.806686</td>\n",
              "      <td>-79.194353</td>\n",
              "    </tr>\n",
              "    <tr>\n",
              "      <th>1</th>\n",
              "      <td>M1C</td>\n",
              "      <td>Scarborough</td>\n",
              "      <td>Rouge Hill, Port Union, Highland Creek</td>\n",
              "      <td>43.784535</td>\n",
              "      <td>-79.160497</td>\n",
              "    </tr>\n",
              "    <tr>\n",
              "      <th>2</th>\n",
              "      <td>M1E</td>\n",
              "      <td>Scarborough</td>\n",
              "      <td>Guildwood, Morningside, West Hill</td>\n",
              "      <td>43.763573</td>\n",
              "      <td>-79.188711</td>\n",
              "    </tr>\n",
              "    <tr>\n",
              "      <th>3</th>\n",
              "      <td>M1G</td>\n",
              "      <td>Scarborough</td>\n",
              "      <td>Woburn</td>\n",
              "      <td>43.770992</td>\n",
              "      <td>-79.216917</td>\n",
              "    </tr>\n",
              "    <tr>\n",
              "      <th>4</th>\n",
              "      <td>M1H</td>\n",
              "      <td>Scarborough</td>\n",
              "      <td>Cedarbrae</td>\n",
              "      <td>43.773136</td>\n",
              "      <td>-79.239476</td>\n",
              "    </tr>\n",
              "    <tr>\n",
              "      <th>5</th>\n",
              "      <td>M1J</td>\n",
              "      <td>Scarborough</td>\n",
              "      <td>Scarborough Village</td>\n",
              "      <td>43.744734</td>\n",
              "      <td>-79.239476</td>\n",
              "    </tr>\n",
              "    <tr>\n",
              "      <th>6</th>\n",
              "      <td>M1K</td>\n",
              "      <td>Scarborough</td>\n",
              "      <td>Kennedy Park, Ionview, East Birchmount Park</td>\n",
              "      <td>43.727929</td>\n",
              "      <td>-79.262029</td>\n",
              "    </tr>\n",
              "    <tr>\n",
              "      <th>7</th>\n",
              "      <td>M1L</td>\n",
              "      <td>Scarborough</td>\n",
              "      <td>Golden Mile, Clairlea, Oakridge</td>\n",
              "      <td>43.711112</td>\n",
              "      <td>-79.284577</td>\n",
              "    </tr>\n",
              "    <tr>\n",
              "      <th>8</th>\n",
              "      <td>M1M</td>\n",
              "      <td>Scarborough</td>\n",
              "      <td>Cliffside, Cliffcrest, Scarborough Village West</td>\n",
              "      <td>43.716316</td>\n",
              "      <td>-79.239476</td>\n",
              "    </tr>\n",
              "    <tr>\n",
              "      <th>9</th>\n",
              "      <td>M1N</td>\n",
              "      <td>Scarborough</td>\n",
              "      <td>Birch Cliff, Cliffside West</td>\n",
              "      <td>43.692657</td>\n",
              "      <td>-79.264848</td>\n",
              "    </tr>\n",
              "    <tr>\n",
              "      <th>10</th>\n",
              "      <td>M1P</td>\n",
              "      <td>Scarborough</td>\n",
              "      <td>Dorset Park, Wexford Heights, Scarborough Town...</td>\n",
              "      <td>43.757410</td>\n",
              "      <td>-79.273304</td>\n",
              "    </tr>\n",
              "  </tbody>\n",
              "</table>\n",
              "</div>"
            ],
            "text/plain": [
              "   PostalCode      Borough  ...   Latitude  Longitude\n",
              "0         M1B  Scarborough  ...  43.806686 -79.194353\n",
              "1         M1C  Scarborough  ...  43.784535 -79.160497\n",
              "2         M1E  Scarborough  ...  43.763573 -79.188711\n",
              "3         M1G  Scarborough  ...  43.770992 -79.216917\n",
              "4         M1H  Scarborough  ...  43.773136 -79.239476\n",
              "5         M1J  Scarborough  ...  43.744734 -79.239476\n",
              "6         M1K  Scarborough  ...  43.727929 -79.262029\n",
              "7         M1L  Scarborough  ...  43.711112 -79.284577\n",
              "8         M1M  Scarborough  ...  43.716316 -79.239476\n",
              "9         M1N  Scarborough  ...  43.692657 -79.264848\n",
              "10        M1P  Scarborough  ...  43.757410 -79.273304\n",
              "\n",
              "[11 rows x 5 columns]"
            ]
          },
          "metadata": {
            "tags": []
          },
          "execution_count": 8
        }
      ]
    },
    {
      "cell_type": "code",
      "metadata": {
        "id": "4fQ68VJU6CQM",
        "colab_type": "code",
        "colab": {
          "base_uri": "https://localhost:8080/",
          "height": 1000
        },
        "outputId": "a7e4a24f-bb63-4ef4-89d0-86a1c6936714"
      },
      "source": [
        "# Part 3 of the notebook \n",
        "\n",
        "address = 'Toronto, Ontario'\n",
        "\n",
        "geolocator = Nominatim(user_agent=\"tl-toronto-neigh\")\n",
        "location = geolocator.geocode(address)\n",
        "latitude = location.latitude\n",
        "longitude = location.longitude\n",
        "print('The geograpical coordinates of Toronto are {}, {}.'.format(latitude, longitude))\n",
        "\n",
        "\n",
        "map_toronto = folium.Map(location=[latitude, longitude], zoom_start=11)\n",
        "\n",
        "for lat, long, post, borough, neigh in zip(toronto_df_coors['Latitude'], toronto_df_coors['Longitude'], toronto_df_coors['PostalCode'], toronto_df_coors['Borough'], toronto_df_coors['Neighborhood']):\n",
        "    label = \"{} ({}): {}\".format(borough, post, neigh)\n",
        "    popup = folium.Popup(label, parse_html=True)\n",
        "    folium.CircleMarker(\n",
        "        [lat, long],\n",
        "        radius=5,\n",
        "        popup=popup,\n",
        "        color='blue',\n",
        "        fill=True,\n",
        "        fill_color='#3186cc',\n",
        "        fill_opacity=0.7,\n",
        "        parse_html=False).add_to(map_toronto)\n",
        "    \n",
        "map_toronto\n",
        "\n",
        "toronto_boroughs = ['East Toronto', 'Central Toronto', 'Downtown Toronto', 'West Toronto']\n",
        "toronto_central_df = toronto_df_coors[toronto_df_coors['Borough'].isin(toronto_boroughs)].reset_index(drop=True)\n",
        "print(toronto_central_df.shape)\n",
        "toronto_central_df.head()\n",
        "\n",
        "map_toronto = folium.Map(location=[latitude, longitude], zoom_start=12)\n",
        "\n",
        "for lat, long, post, borough, neigh in zip(toronto_central_df['Latitude'], toronto_central_df['Longitude'], toronto_central_df['PostalCode'], toronto_central_df['Borough'], toronto_central_df['Neighborhood']):\n",
        "    label = \"{} ({}): {}\".format(borough, post, neigh)\n",
        "    popup = folium.Popup(label, parse_html=True)\n",
        "    folium.CircleMarker(\n",
        "        [lat, long],\n",
        "        radius=5,\n",
        "        popup=popup,\n",
        "        color='blue',\n",
        "        fill=True,\n",
        "        fill_color='#3186cc',\n",
        "        fill_opacity=0.7,\n",
        "        parse_html=False).add_to(map_toronto)\n",
        "    \n",
        "map_toronto"
      ],
      "execution_count": null,
      "outputs": [
        {
          "output_type": "stream",
          "text": [
            "The geograpical coordinates of Toronto are 43.6534817, -79.3839347.\n",
            "(39, 5)\n"
          ],
          "name": "stdout"
        },
        {
          "output_type": "execute_result",
          "data": {
            "text/html": [
              "<div style=\"width:100%;\"><div style=\"position:relative;width:100%;height:0;padding-bottom:60%;\"><span style=\"color:#565656\">Make this Notebook Trusted to load map: File -> Trust Notebook</span><iframe src=\"about:blank\" style=\"position:absolute;width:100%;height:100%;left:0;top:0;border:none !important;\" data-html=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 onload=\"this.contentDocument.open();this.contentDocument.write(atob(this.getAttribute('data-html')));this.contentDocument.close();\" allowfullscreen webkitallowfullscreen mozallowfullscreen></iframe></div></div>"
            ],
            "text/plain": [
              "<folium.folium.Map at 0x7fac451dacf8>"
            ]
          },
          "metadata": {
            "tags": []
          },
          "execution_count": 55
        }
      ]
    },
    {
      "cell_type": "code",
      "metadata": {
        "id": "2R6JlhGI6Eo4",
        "colab_type": "code",
        "colab": {}
      },
      "source": [
        ""
      ],
      "execution_count": null,
      "outputs": []
    },
    {
      "cell_type": "code",
      "metadata": {
        "id": "O0lEY7fn3x1l",
        "colab_type": "code",
        "colab": {}
      },
      "source": [
        ""
      ],
      "execution_count": null,
      "outputs": []
    },
    {
      "cell_type": "code",
      "metadata": {
        "id": "doWTmsCA6KOf",
        "colab_type": "code",
        "colab": {}
      },
      "source": [
        ""
      ],
      "execution_count": null,
      "outputs": []
    },
    {
      "cell_type": "code",
      "metadata": {
        "id": "dvYwwPJl6Mu5",
        "colab_type": "code",
        "colab": {}
      },
      "source": [
        ""
      ],
      "execution_count": null,
      "outputs": []
    },
    {
      "cell_type": "code",
      "metadata": {
        "id": "OR1Khfd76SBz",
        "colab_type": "code",
        "colab": {}
      },
      "source": [
        "\n",
        "\n"
      ],
      "execution_count": null,
      "outputs": []
    },
    {
      "cell_type": "code",
      "metadata": {
        "id": "X6RsEVPm6yKX",
        "colab_type": "code",
        "colab": {}
      },
      "source": [
        ""
      ],
      "execution_count": null,
      "outputs": []
    }
  ]
}